{
 "cells": [
  {
   "cell_type": "code",
   "execution_count": 4,
   "id": "27ec9e73",
   "metadata": {},
   "outputs": [
    {
     "ename": "ModuleNotFoundError",
     "evalue": "No module named 'pandas'",
     "output_type": "error",
     "traceback": [
      "\u001b[0;31m---------------------------------------------------------------------------\u001b[0m",
      "\u001b[0;31mModuleNotFoundError\u001b[0m                       Traceback (most recent call last)",
      "Cell \u001b[0;32mIn[4], line 1\u001b[0m\n\u001b[0;32m----> 1\u001b[0m \u001b[38;5;28;01mimport\u001b[39;00m \u001b[38;5;21;01mpandas\u001b[39;00m \u001b[38;5;28;01mas\u001b[39;00m \u001b[38;5;21;01mpd\u001b[39;00m\n\u001b[1;32m      2\u001b[0m \u001b[38;5;28;01mimport\u001b[39;00m \u001b[38;5;21;01mnumpy\u001b[39;00m \u001b[38;5;28;01mas\u001b[39;00m \u001b[38;5;21;01mnp\u001b[39;00m\n\u001b[1;32m      3\u001b[0m \u001b[38;5;28;01mimport\u001b[39;00m \u001b[38;5;21;01mre\u001b[39;00m\n",
      "\u001b[0;31mModuleNotFoundError\u001b[0m: No module named 'pandas'"
     ]
    }
   ],
   "source": [
    "import pandas as pd\n",
    "import numpy as np\n",
    "import re"
   ]
  },
  {
   "cell_type": "code",
   "execution_count": 5,
   "id": "b156d0b6",
   "metadata": {},
   "outputs": [
    {
     "name": "stdout",
     "output_type": "stream",
     "text": [
      "Defaulting to user installation because normal site-packages is not writeable\n",
      "Requirement already satisfied: pypdf in /Users/billybonaros/Library/Python/3.9/lib/python/site-packages (4.2.0)\n",
      "Requirement already satisfied: typing_extensions>=4.0 in /Users/billybonaros/Library/Python/3.9/lib/python/site-packages (from pypdf) (4.12.1)\n",
      "\u001b[33mWARNING: You are using pip version 21.2.4; however, version 24.0 is available.\n",
      "You should consider upgrading via the '/Library/Developer/CommandLineTools/usr/bin/python3 -m pip install --upgrade pip' command.\u001b[0m\n",
      "Note: you may need to restart the kernel to use updated packages.\n"
     ]
    }
   ],
   "source": [
    "pip install pypdf\n"
   ]
  },
  {
   "cell_type": "code",
   "execution_count": 3,
   "id": "bd601ab0",
   "metadata": {},
   "outputs": [],
   "source": [
    "from pypdf import PdfReader\n",
    "\n",
    "reader = PdfReader(\"andreas.pdf\")\n",
    "text = \"\"\n",
    "for page in reader.pages:\n",
    "    text += page.extract_text() + \"\\n\""
   ]
  },
  {
   "cell_type": "code",
   "execution_count": 7,
   "id": "bd4e31e5",
   "metadata": {},
   "outputs": [
    {
     "data": {
      "text/plain": [
       "['#9704']"
      ]
     },
     "execution_count": 7,
     "metadata": {},
     "output_type": "execute_result"
    }
   ],
   "source": [
    "re.findall('\\#\\d+',text)"
   ]
  },
  {
   "cell_type": "code",
   "execution_count": 9,
   "id": "1d7d433b",
   "metadata": {},
   "outputs": [],
   "source": [
    "import os"
   ]
  },
  {
   "cell_type": "code",
   "execution_count": 10,
   "id": "603f8084",
   "metadata": {},
   "outputs": [
    {
     "data": {
      "text/plain": [
       "['.DS_Store',\n",
       " 'andreas.pdf',\n",
       " 'Untitled.ipynb',\n",
       " 'luxmii_pdf.zip',\n",
       " 'luxmii_pdf',\n",
       " '.ipynb_checkpoints']"
      ]
     },
     "execution_count": 10,
     "metadata": {},
     "output_type": "execute_result"
    }
   ],
   "source": [
    "os.listdir()"
   ]
  },
  {
   "cell_type": "code",
   "execution_count": 11,
   "id": "63e7044d",
   "metadata": {},
   "outputs": [],
   "source": [
    "os.rename( 'andreas.pdf',re.findall('\\#\\d+',text)[0])"
   ]
  },
  {
   "cell_type": "code",
   "execution_count": 14,
   "id": "b5d631f6",
   "metadata": {},
   "outputs": [],
   "source": [
    "files=os.listdir('luxmii_pdf')"
   ]
  },
  {
   "cell_type": "code",
   "execution_count": 24,
   "id": "638cae4d",
   "metadata": {},
   "outputs": [],
   "source": [
    "for i in files:\n",
    "    inp=f\"luxmii_pdf/{i}\"\n",
    "    \n",
    "    reader = PdfReader(inp)\n",
    "    text = \"\"\n",
    "    for page in reader.pages:\n",
    "        text += page.extract_text() + \"\\n\"\n",
    "    out=re.findall('Order No.:\\n\\#(\\d+)',text)[0]\n",
    "    os.rename(inp, f'luxmii_pdf/{out}.pdf')"
   ]
  },
  {
   "cell_type": "code",
   "execution_count": 23,
   "id": "3d379491",
   "metadata": {},
   "outputs": [
    {
     "data": {
      "text/plain": [
       "'VAT No.:\\nFinal ConsumerOrder No.:\\n#9646Due Date:\\n2024/06/01Due:\\nImmediatelyVAT:\\n0,00€Total:\\n586,62€Invoice no. FT LuxmiiSequence/589\\nIssue Date:  2024/06/01\\nLUXMII\\nCalçada Moinho de Vento 18A\\n1150- 236 Lisboa\\nPortugal\\nVAT:  980820618Toni Manougian\\n58 Pritchard Court\\n12524 Fishkill\\nUnited States\\nItem Unit Price Quant. Total w/o VAT VAT Total w/ VAT\\nAurore Linen Midi Dress Black - M - SKU:  A-AURO- M-0335 279, 30€ 1.0 279, 30€ 0,00% 279, 30€\\nEda Linen Midi Wrap Dress Brown Espresso - M - SKU:  A-EDA- M-0418 307, 33€ 1.0 307, 33€ 0,00% 307, 33€\\nIn Summary:\\nTax Incidence Amount\\nIsento 586, 62€ 0,00€Total in AUD:\\n954,37A$\\n1.6269 Exchange Rate: \\n586,62€ Total in EUR: \\nTotal Without VAT: 586, 62€\\nVAT: 0,00€Summary\\nRetention: 0,00€\\nATCUD:JJVKF798-589\\nRemarks:  Isento artigo 14º do CIVA.\\nN0DX - Processado por programa certificado nº 192/AT | InvoiceXpressSeongoklee pty ltd, 2/82 Grafton Street,  Cairns City,  QLD,  4870,  Australia,  ABN:  86096683895\\nPage 1/1\\n'"
      ]
     },
     "execution_count": 23,
     "metadata": {},
     "output_type": "execute_result"
    }
   ],
   "source": [
    "text"
   ]
  },
  {
   "cell_type": "code",
   "execution_count": 6,
   "id": "4c1ee835",
   "metadata": {},
   "outputs": [],
   "source": [
    "import os"
   ]
  },
  {
   "cell_type": "code",
   "execution_count": 14,
   "id": "e09c6f59",
   "metadata": {},
   "outputs": [],
   "source": [
    "import shutil\n",
    "shutil.rmtree('extracted')"
   ]
  },
  {
   "cell_type": "code",
   "execution_count": null,
   "id": "861c1388",
   "metadata": {},
   "outputs": [],
   "source": []
  }
 ],
 "metadata": {
  "kernelspec": {
   "display_name": "Python 3.9.6 64-bit",
   "language": "python",
   "name": "python3"
  },
  "language_info": {
   "codemirror_mode": {
    "name": "ipython",
    "version": 3
   },
   "file_extension": ".py",
   "mimetype": "text/x-python",
   "name": "python",
   "nbconvert_exporter": "python",
   "pygments_lexer": "ipython3",
   "version": "3.9.6"
  },
  "vscode": {
   "interpreter": {
    "hash": "31f2aee4e71d21fbe5cf8b01ff0e069b9275f58929596ceb00d14d90e3e16cd6"
   }
  }
 },
 "nbformat": 4,
 "nbformat_minor": 5
}
