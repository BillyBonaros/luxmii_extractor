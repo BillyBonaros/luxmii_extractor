{
 "cells": [
  {
   "cell_type": "code",
   "execution_count": 1,
   "id": "27ec9e73",
   "metadata": {},
   "outputs": [],
   "source": [
    "import pandas as pd\n",
    "import numpy as np\n",
    "import re"
   ]
  },
  {
   "cell_type": "code",
   "execution_count": 5,
   "id": "b156d0b6",
   "metadata": {},
   "outputs": [
    {
     "name": "stdout",
     "output_type": "stream",
     "text": [
      "Defaulting to user installation because normal site-packages is not writeable\n",
      "Requirement already satisfied: pypdf in /Users/billybonaros/Library/Python/3.9/lib/python/site-packages (4.2.0)\n",
      "Requirement already satisfied: typing_extensions>=4.0 in /Users/billybonaros/Library/Python/3.9/lib/python/site-packages (from pypdf) (4.12.1)\n",
      "\u001b[33mWARNING: You are using pip version 21.2.4; however, version 24.0 is available.\n",
      "You should consider upgrading via the '/Library/Developer/CommandLineTools/usr/bin/python3 -m pip install --upgrade pip' command.\u001b[0m\n",
      "Note: you may need to restart the kernel to use updated packages.\n"
     ]
    }
   ],
   "source": [
    "pip install pypdf\n"
   ]
  },
  {
   "cell_type": "code",
   "execution_count": 7,
   "id": "bd601ab0",
   "metadata": {},
   "outputs": [
    {
     "ename": "FileNotFoundError",
     "evalue": "[Errno 2] No such file or directory: 'andreas.pdf'",
     "output_type": "error",
     "traceback": [
      "\u001b[0;31m---------------------------------------------------------------------------\u001b[0m",
      "\u001b[0;31mFileNotFoundError\u001b[0m                         Traceback (most recent call last)",
      "\u001b[0;32m<ipython-input-7-58670d1f69fc>\u001b[0m in \u001b[0;36m<module>\u001b[0;34m\u001b[0m\n\u001b[1;32m      1\u001b[0m \u001b[0;32mfrom\u001b[0m \u001b[0mpypdf\u001b[0m \u001b[0;32mimport\u001b[0m \u001b[0mPdfReader\u001b[0m\u001b[0;34m\u001b[0m\u001b[0;34m\u001b[0m\u001b[0m\n\u001b[1;32m      2\u001b[0m \u001b[0;34m\u001b[0m\u001b[0m\n\u001b[0;32m----> 3\u001b[0;31m \u001b[0mreader\u001b[0m \u001b[0;34m=\u001b[0m \u001b[0mPdfReader\u001b[0m\u001b[0;34m(\u001b[0m\u001b[0;34m\"andreas.pdf\"\u001b[0m\u001b[0;34m)\u001b[0m\u001b[0;34m\u001b[0m\u001b[0;34m\u001b[0m\u001b[0m\n\u001b[0m\u001b[1;32m      4\u001b[0m \u001b[0mtext\u001b[0m \u001b[0;34m=\u001b[0m \u001b[0;34m\"\"\u001b[0m\u001b[0;34m\u001b[0m\u001b[0;34m\u001b[0m\u001b[0m\n\u001b[1;32m      5\u001b[0m \u001b[0;32mfor\u001b[0m \u001b[0mpage\u001b[0m \u001b[0;32min\u001b[0m \u001b[0mreader\u001b[0m\u001b[0;34m.\u001b[0m\u001b[0mpages\u001b[0m\u001b[0;34m:\u001b[0m\u001b[0;34m\u001b[0m\u001b[0;34m\u001b[0m\u001b[0m\n",
      "\u001b[0;32m/opt/anaconda3/lib/python3.8/site-packages/pypdf/_reader.py\u001b[0m in \u001b[0;36m__init__\u001b[0;34m(self, stream, strict, password)\u001b[0m\n\u001b[1;32m    123\u001b[0m             )\n\u001b[1;32m    124\u001b[0m         \u001b[0;32mif\u001b[0m \u001b[0misinstance\u001b[0m\u001b[0;34m(\u001b[0m\u001b[0mstream\u001b[0m\u001b[0;34m,\u001b[0m \u001b[0;34m(\u001b[0m\u001b[0mstr\u001b[0m\u001b[0;34m,\u001b[0m \u001b[0mPath\u001b[0m\u001b[0;34m)\u001b[0m\u001b[0;34m)\u001b[0m\u001b[0;34m:\u001b[0m\u001b[0;34m\u001b[0m\u001b[0;34m\u001b[0m\u001b[0m\n\u001b[0;32m--> 125\u001b[0;31m             \u001b[0;32mwith\u001b[0m \u001b[0mopen\u001b[0m\u001b[0;34m(\u001b[0m\u001b[0mstream\u001b[0m\u001b[0;34m,\u001b[0m \u001b[0;34m\"rb\"\u001b[0m\u001b[0;34m)\u001b[0m \u001b[0;32mas\u001b[0m \u001b[0mfh\u001b[0m\u001b[0;34m:\u001b[0m\u001b[0;34m\u001b[0m\u001b[0;34m\u001b[0m\u001b[0m\n\u001b[0m\u001b[1;32m    126\u001b[0m                 \u001b[0mstream\u001b[0m \u001b[0;34m=\u001b[0m \u001b[0mBytesIO\u001b[0m\u001b[0;34m(\u001b[0m\u001b[0mfh\u001b[0m\u001b[0;34m.\u001b[0m\u001b[0mread\u001b[0m\u001b[0;34m(\u001b[0m\u001b[0;34m)\u001b[0m\u001b[0;34m)\u001b[0m\u001b[0;34m\u001b[0m\u001b[0;34m\u001b[0m\u001b[0m\n\u001b[1;32m    127\u001b[0m         \u001b[0mself\u001b[0m\u001b[0;34m.\u001b[0m\u001b[0mread\u001b[0m\u001b[0;34m(\u001b[0m\u001b[0mstream\u001b[0m\u001b[0;34m)\u001b[0m\u001b[0;34m\u001b[0m\u001b[0;34m\u001b[0m\u001b[0m\n",
      "\u001b[0;31mFileNotFoundError\u001b[0m: [Errno 2] No such file or directory: 'andreas.pdf'"
     ]
    }
   ],
   "source": [
    "from pypdf import PdfReader\n",
    "\n",
    "reader = PdfReader(\"andreas.pdf\")\n",
    "text = \"\"\n",
    "for page in reader.pages:\n",
    "    text += page.extract_text() + \"\\n\""
   ]
  },
  {
   "cell_type": "code",
   "execution_count": 7,
   "id": "bd4e31e5",
   "metadata": {},
   "outputs": [
    {
     "data": {
      "text/plain": [
       "['#9704']"
      ]
     },
     "execution_count": 7,
     "metadata": {},
     "output_type": "execute_result"
    }
   ],
   "source": [
    "re.findall('\\#\\d+',text)"
   ]
  },
  {
   "cell_type": "code",
   "execution_count": 3,
   "id": "1d7d433b",
   "metadata": {},
   "outputs": [],
   "source": [
    "import os"
   ]
  },
  {
   "cell_type": "code",
   "execution_count": 4,
   "id": "603f8084",
   "metadata": {},
   "outputs": [
    {
     "data": {
      "text/plain": [
       "['setup.sh',\n",
       " '.DS_Store',\n",
       " 'requirements.txt',\n",
       " 'Untitled.ipynb',\n",
       " 'runtime.txt',\n",
       " 'output.zip',\n",
       " 'luxmii_pdf.zip',\n",
       " 'app.py',\n",
       " 'luxmii_pdf',\n",
       " '.ipynb_checkpoints',\n",
       " 'Procfile',\n",
       " '.git',\n",
       " 'luxmii_pdf_old.zip']"
      ]
     },
     "execution_count": 4,
     "metadata": {},
     "output_type": "execute_result"
    }
   ],
   "source": [
    "os.listdir()"
   ]
  },
  {
   "cell_type": "code",
   "execution_count": 11,
   "id": "63e7044d",
   "metadata": {},
   "outputs": [],
   "source": [
    "os.rename( 'andreas.pdf',re.findall('\\#\\d+',text)[0])"
   ]
  },
  {
   "cell_type": "code",
   "execution_count": 5,
   "id": "b5d631f6",
   "metadata": {},
   "outputs": [],
   "source": [
    "files=os.listdir('luxmii_pdf')"
   ]
  },
  {
   "cell_type": "code",
   "execution_count": 8,
   "id": "638cae4d",
   "metadata": {},
   "outputs": [],
   "source": [
    "for i in files:\n",
    "    inp=f\"luxmii_pdf/{i}\"\n",
    "    \n",
    "    reader = PdfReader(inp)\n",
    "    text = \"\"\n",
    "    for page in reader.pages:\n",
    "        text += page.extract_text() + \"\\n\"\n",
    "    out=re.findall('Order No.:\\n\\#*(\\d+)',text)[0]\n",
    "    os.rename(inp, f'luxmii_pdf/{out}.pdf')"
   ]
  },
  {
   "cell_type": "code",
   "execution_count": 23,
   "id": "3d379491",
   "metadata": {},
   "outputs": [
    {
     "data": {
      "text/plain": [
       "'VAT No.:\\nFinal ConsumerOrder No.:\\n#9646Due Date:\\n2024/06/01Due:\\nImmediatelyVAT:\\n0,00€Total:\\n586,62€Invoice no. FT LuxmiiSequence/589\\nIssue Date:  2024/06/01\\nLUXMII\\nCalçada Moinho de Vento 18A\\n1150- 236 Lisboa\\nPortugal\\nVAT:  980820618Toni Manougian\\n58 Pritchard Court\\n12524 Fishkill\\nUnited States\\nItem Unit Price Quant. Total w/o VAT VAT Total w/ VAT\\nAurore Linen Midi Dress Black - M - SKU:  A-AURO- M-0335 279, 30€ 1.0 279, 30€ 0,00% 279, 30€\\nEda Linen Midi Wrap Dress Brown Espresso - M - SKU:  A-EDA- M-0418 307, 33€ 1.0 307, 33€ 0,00% 307, 33€\\nIn Summary:\\nTax Incidence Amount\\nIsento 586, 62€ 0,00€Total in AUD:\\n954,37A$\\n1.6269 Exchange Rate: \\n586,62€ Total in EUR: \\nTotal Without VAT: 586, 62€\\nVAT: 0,00€Summary\\nRetention: 0,00€\\nATCUD:JJVKF798-589\\nRemarks:  Isento artigo 14º do CIVA.\\nN0DX - Processado por programa certificado nº 192/AT | InvoiceXpressSeongoklee pty ltd, 2/82 Grafton Street,  Cairns City,  QLD,  4870,  Australia,  ABN:  86096683895\\nPage 1/1\\n'"
      ]
     },
     "execution_count": 23,
     "metadata": {},
     "output_type": "execute_result"
    }
   ],
   "source": [
    "text"
   ]
  },
  {
   "cell_type": "code",
   "execution_count": 6,
   "id": "4c1ee835",
   "metadata": {},
   "outputs": [],
   "source": [
    "import os"
   ]
  },
  {
   "cell_type": "code",
   "execution_count": 14,
   "id": "e09c6f59",
   "metadata": {},
   "outputs": [],
   "source": [
    "import shutil\n",
    "shutil.rmtree('extracted')"
   ]
  },
  {
   "cell_type": "code",
   "execution_count": null,
   "id": "861c1388",
   "metadata": {},
   "outputs": [],
   "source": []
  }
 ],
 "metadata": {
  "kernelspec": {
   "display_name": "Python 3",
   "language": "python",
   "name": "python3"
  },
  "language_info": {
   "codemirror_mode": {
    "name": "ipython",
    "version": 3
   },
   "file_extension": ".py",
   "mimetype": "text/x-python",
   "name": "python",
   "nbconvert_exporter": "python",
   "pygments_lexer": "ipython3",
   "version": "3.8.8"
  },
  "vscode": {
   "interpreter": {
    "hash": "31f2aee4e71d21fbe5cf8b01ff0e069b9275f58929596ceb00d14d90e3e16cd6"
   }
  }
 },
 "nbformat": 4,
 "nbformat_minor": 5
}
